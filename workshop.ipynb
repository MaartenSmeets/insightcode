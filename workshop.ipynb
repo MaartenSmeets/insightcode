{
 "cells": [
  {
   "cell_type": "code",
   "execution_count": null,
   "metadata": {},
   "outputs": [],
   "source": [
    "#Open using https://colab.research.google.com/github/MaartenSmeets/insightcode/blob/develop/workshop.ipynb\n",
    "!git clone https://github.com/MaartenSmeets/insightcode.git"
   ]
  },
  {
   "cell_type": "code",
   "execution_count": null,
   "metadata": {},
   "outputs": [],
   "source": [
    "#Install Ollama\n",
    "!curl -fsSL https://ollama.com/install.sh | sh"
   ]
  },
  {
   "cell_type": "code",
   "execution_count": null,
   "metadata": {},
   "outputs": [],
   "source": [
    "#Start server\n",
    "get_ipython().system_raw('ollama serve &')"
   ]
  },
  {
   "cell_type": "code",
   "execution_count": null,
   "metadata": {},
   "outputs": [],
   "source": [
    "import subprocess\n",
    "\n",
    "def pull_model_silently(model_name):\n",
    "    \"\"\"Pull a model using ollama and suppress output.\"\"\"\n",
    "    try:\n",
    "        # Run the ollama pull command, suppressing the output\n",
    "        result = subprocess.run(\n",
    "            [\"ollama\", \"pull\", model_name], \n",
    "            stdout=subprocess.DEVNULL,  # Suppress standard output\n",
    "            stderr=subprocess.DEVNULL   # Suppress error output\n",
    "        )\n",
    "        \n",
    "        # Check if the command was successful\n",
    "        if result.returncode == 0:\n",
    "            print(f\"Model '{model_name}' downloaded successfully.\")\n",
    "        else:\n",
    "            print(f\"Failed to download model '{model_name}'.\")\n",
    "    except Exception as e:\n",
    "        print(f\"An error occurred: {e}\")\n",
    "\n",
    "# Example usage\n",
    "pull_model_silently(\"deepseek-coder-v2:16b-lite-instruct-q5_K_M\")"
   ]
  }
 ],
 "metadata": {
  "kernelspec": {
   "display_name": "Python 3",
   "language": "python",
   "name": "python3"
  },
  "language_info": {
   "codemirror_mode": {
    "name": "ipython",
    "version": 3
   },
   "file_extension": ".py",
   "mimetype": "text/x-python",
   "name": "python",
   "nbconvert_exporter": "python",
   "pygments_lexer": "ipython3",
   "version": "3.12.7"
  }
 },
 "nbformat": 4,
 "nbformat_minor": 2
}
