{
 "cells": [
  {
   "cell_type": "code",
   "execution_count": null,
   "metadata": {},
   "outputs": [],
   "source": [
    "#Open using https://colab.research.google.com/github/MaartenSmeets/insightcode/blob/develop/workshop.ipynb\n",
    "!git clone https://github.com/MaartenSmeets/insightcode.git\n",
    "%cd insightcode\n",
    "!git checkout develop"
   ]
  },
  {
   "cell_type": "code",
   "execution_count": null,
   "metadata": {},
   "outputs": [],
   "source": [
    "#Install Ollama\n",
    "!curl -fsSL https://ollama.com/install.sh | sh"
   ]
  },
  {
   "cell_type": "code",
   "execution_count": null,
   "metadata": {},
   "outputs": [],
   "source": [
    "#Start server\n",
    "get_ipython().system_raw('ollama serve &')"
   ]
  },
  {
   "cell_type": "code",
   "execution_count": null,
   "metadata": {},
   "outputs": [],
   "source": [
    "#Install requirements\n",
    "!pip install -r requirements.txt"
   ]
  },
  {
   "cell_type": "code",
   "execution_count": null,
   "metadata": {},
   "outputs": [],
   "source": [
    "# Download model with progress monitoring\n",
    "# This can be done locally with. ollama pull deepseek-coder-v2:16b-lite-instruct-q5_K_M\n",
    "import subprocess\n",
    "import re\n",
    "\n",
    "def pull_model_with_progress(model_name):\n",
    "    \"\"\"Pull a model using ollama and monitor progress.\"\"\"\n",
    "    print(f\"Start downloading model: '{model_name}'.\")\n",
    "    try:\n",
    "        # Start the ollama pull command\n",
    "        process = subprocess.Popen(\n",
    "            [\"ollama\", \"pull\", model_name],\n",
    "            stdout=subprocess.PIPE,\n",
    "            stderr=subprocess.STDOUT,  # Combine stderr with stdout\n",
    "            universal_newlines=True,   # Ensure text mode for Python 3\n",
    "            bufsize=1                  # Line-buffered\n",
    "        )\n",
    "\n",
    "        current_percentage = None\n",
    "        reached_100_percent = False  # Flag to stop displaying progress after 100%\n",
    "\n",
    "        # Read the output line by line\n",
    "        for line in iter(process.stdout.readline, ''):\n",
    "            # Remove any extra whitespace\n",
    "            line = line.strip()\n",
    "            # Use regex to find percentages in the output\n",
    "            match = re.search(r'(\\d+)%', line)\n",
    "            if match:\n",
    "                percentage = match.group(1)\n",
    "                if percentage != current_percentage:\n",
    "                    current_percentage = percentage\n",
    "                    if not reached_100_percent:\n",
    "                        print(f\"Downloading... {percentage}%\")\n",
    "                    if percentage == '100':\n",
    "                        reached_100_percent = True  # Stop displaying progress after 100%\n",
    "            elif \"Downloaded\" in line:\n",
    "                # Handle completion message\n",
    "                print(\"Download complete.\")\n",
    "            elif \"Error\" in line or \"Failed\" in line:\n",
    "                # Handle error messages\n",
    "                print(f\"Error: {line}\")\n",
    "                break\n",
    "\n",
    "        # Wait for the process to finish\n",
    "        process.wait()\n",
    "\n",
    "        # Check if the command was successful\n",
    "        if process.returncode == 0:\n",
    "            print(f\"Model '{model_name}' downloaded successfully.\")\n",
    "        else:\n",
    "            print(f\"Failed to download model '{model_name}'.\")\n",
    "    except Exception as e:\n",
    "        print(f\"An error occurred: {e}\")\n",
    "\n",
    "# Use the function to download the model\n",
    "pull_model_with_progress(\"deepseek-coder-v2:16b-lite-instruct-q5_K_M\")"
   ]
  },
  {
   "cell_type": "code",
   "execution_count": null,
   "metadata": {},
   "outputs": [],
   "source": [
    "#Put this repository in the repo folder for analysis\n",
    "!mkdir repo\n",
    "!find . -path './.venv' -prune -o -type f -name '*.py' -exec install -D {} repo/{} \\;"
   ]
  },
  {
   "cell_type": "code",
   "execution_count": null,
   "metadata": {},
   "outputs": [],
   "source": [
    "#Execute!\n",
    "!python main.py"
   ]
  }
 ],
 "metadata": {
  "kernelspec": {
   "display_name": "Python 3",
   "language": "python",
   "name": "python3"
  },
  "language_info": {
   "codemirror_mode": {
    "name": "ipython",
    "version": 3
   },
   "file_extension": ".py",
   "mimetype": "text/x-python",
   "name": "python",
   "nbconvert_exporter": "python",
   "pygments_lexer": "ipython3",
   "version": "3.12.7"
  }
 },
 "nbformat": 4,
 "nbformat_minor": 2
}
